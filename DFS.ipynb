{
 "cells": [
  {
   "cell_type": "code",
   "execution_count": 4,
   "id": "e38b4272-6e65-4b3b-8eaa-6f81cab01684",
   "metadata": {},
   "outputs": [
    {
     "name": "stdin",
     "output_type": "stream",
     "text": [
      " 8 9\n",
      " A B\n",
      " A C\n",
      " B E\n",
      " C D\n",
      " B D\n",
      " C G\n",
      " D F\n",
      " G F\n",
      " F H\n"
     ]
    },
    {
     "name": "stdout",
     "output_type": "stream",
     "text": [
      "['A', 'B', 'E', 'D', 'C', 'G', 'F', 'H']\n"
     ]
    }
   ],
   "source": [
    "#taking input nodes as alphabets\n",
    "from collections import deque\n",
    "from collections import defaultdict\n",
    "\n",
    "def dfs(graph, start, visited, path):\n",
    "    path.append(start)\n",
    "    visited[start] = True\n",
    "    for neighbour in graph[start]:\n",
    "        if visited[neighbour] == False:\n",
    "            dfs(graph, neighbour, visited, path)\n",
    "            visited[neighbour] = True\n",
    "    return path\n",
    "\n",
    "graph = defaultdict(list)\n",
    "n, e = map(int, input().split())\n",
    "for i in range(e):\n",
    "    u, v = map(str, input().split())\n",
    "    graph[u].append(v)\n",
    "    graph[v].append(u)\n",
    "# print(graph)\n",
    "start = \"A\"\n",
    "visited = defaultdict(bool)\n",
    "path = []\n",
    "traversedpath = dfs(graph, start, visited, path)\n",
    "print(traversedpath)"
   ]
  },
  {
   "cell_type": "code",
   "execution_count": 3,
   "id": "072d00c2-8217-4f3e-993c-fc4db4d8275e",
   "metadata": {},
   "outputs": [
    {
     "name": "stdin",
     "output_type": "stream",
     "text": [
      " 5 5\n",
      " 0 1\n",
      " 0 2\n",
      " 0 3\n",
      " 2 3\n",
      " 2 4\n"
     ]
    },
    {
     "name": "stdout",
     "output_type": "stream",
     "text": [
      "['0', '1', '2', '3', '4']\n"
     ]
    }
   ],
   "source": [
    "#taking input nodes as numbers\n",
    "from collections import deque\n",
    "from collections import defaultdict\n",
    "\n",
    "def dfs(graph, start, visited, path):\n",
    "    path.append(start)\n",
    "    visited[start] = True\n",
    "    for neighbour in graph[start]:\n",
    "        if visited[neighbour] == False:\n",
    "            dfs(graph, neighbour, visited, path)\n",
    "            visited[neighbour] = True\n",
    "    return path\n",
    "\n",
    "graph = defaultdict(list)\n",
    "n, e = map(int, input().split())\n",
    "for i in range(e):\n",
    "    u, v = map(str, input().split())\n",
    "    graph[u].append(v)\n",
    "    graph[v].append(u)\n",
    "# print(graph)\n",
    "start = \"0\"\n",
    "visited = defaultdict(bool)\n",
    "path = []\n",
    "traversedpath = dfs(graph, start, visited, path)\n",
    "print(traversedpath)"
   ]
  }
 ],
 "metadata": {
  "kernelspec": {
   "display_name": "Python 3 (ipykernel)",
   "language": "python",
   "name": "python3"
  },
  "language_info": {
   "codemirror_mode": {
    "name": "ipython",
    "version": 3
   },
   "file_extension": ".py",
   "mimetype": "text/x-python",
   "name": "python",
   "nbconvert_exporter": "python",
   "pygments_lexer": "ipython3",
   "version": "3.13.5"
  }
 },
 "nbformat": 4,
 "nbformat_minor": 5
}
